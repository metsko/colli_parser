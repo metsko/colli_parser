{
 "cells": [
  {
   "cell_type": "code",
   "execution_count": 1,
   "id": "a4e3fe17",
   "metadata": {},
   "outputs": [
    {
     "data": {
      "text/plain": [
       "True"
      ]
     },
     "execution_count": 1,
     "metadata": {},
     "output_type": "execute_result"
    }
   ],
   "source": [
    "from dotenv import load_dotenv\n",
    "load_dotenv(\"../webhook/.env\")"
   ]
  },
  {
   "cell_type": "code",
   "execution_count": 6,
   "id": "801fd711",
   "metadata": {},
   "outputs": [],
   "source": [
    "# from pathlib import Path\n",
    "\n",
    "# from mistralai import Mistral\n",
    "# from mistralai import TextChunk\n",
    "\n",
    "# from webhook.models import Invoice\n",
    "# from IPython.display import Markdown, display\n",
    "\n",
    "\n",
    "# class MistralAIClient:\n",
    "#     def __init__(self, api_token: str):\n",
    "#         self.client = Mistral(api_key=api_token)\n",
    "\n",
    "#     def get_response(self, file_path: str):\n",
    "#         \"\"\"\n",
    "#         Sends an image or PDF to the Mistral AI OCR API and returns structured data.\n",
    "#         \"\"\"\n",
    "#         try:\n",
    "#             file_ext = Path(file_path).suffix.lower()\n",
    "#             if file_ext == '.pdf':\n",
    "#                 return self.structured_pdf_ocr(file_path)\n",
    "#             else:\n",
    "#                 return self.structured_ocr(file_path)\n",
    "#         except Exception as e:\n",
    "#             raise ValueError(f\"Failed to get response from Mistral AI API: {e}\")\n",
    "\n",
    "#     def structured_pdf_ocr(self, pdf_path: str) -> Invoice:\n",
    "#         \"\"\"\n",
    "#         Process a PDF document using OCR and extract structured data.\n",
    "\n",
    "#         Args:\n",
    "#             pdf_path: Path to the PDF file to process\n",
    "\n",
    "#         Returns:\n",
    "#             Invoice object containing the extracted data\n",
    "\n",
    "#         Raises:\n",
    "#             AssertionError: If the PDF file does not exist\n",
    "#         \"\"\"\n",
    "#         # Validate input file\n",
    "#         pdf_file = Path(pdf_path)\n",
    "#         assert pdf_file.is_file(), \"The provided PDF path does not exist.\"\n",
    "\n",
    "#         # Upload the PDF file to Mistral\n",
    "#         uploaded_pdf = self.client.files.upload(\n",
    "#             file={\n",
    "#                 \"file_name\": pdf_file.name,\n",
    "#                 \"content\": open(pdf_file, \"rb\"),\n",
    "#             },\n",
    "#             purpose=\"ocr\"\n",
    "#         )\n",
    "\n",
    "#         # Get a signed URL for the uploaded file\n",
    "#         signed_url = self.client.files.get_signed_url(file_id=uploaded_pdf.id)\n",
    "\n",
    "#         # Process the PDF using OCR\n",
    "#         ocr_response = self.client.ocr.process(\n",
    "#             model=\"mistral-ocr-latest\",\n",
    "#             document={\"type\": \"document_url\", \"document_url\": signed_url.url}\n",
    "#         )\n",
    "\n",
    "#         # Extract text from all pages\n",
    "#         all_markdown = \"\\n\\n\".join([page.markdown for page in ocr_response.pages])\n",
    "#         display(Markdown(all_markdown))\n",
    "#         # Parse the OCR result into a structured JSON response\n",
    "#         chat_response = self.client.chat.parse(\n",
    "#             model=\"pixtral-12b-latest\",\n",
    "#             messages=[\n",
    "#                 {\n",
    "#                     \"role\": \"user\",\n",
    "#                     \"content\": [\n",
    "#                         TextChunk(text=(\n",
    "#                             f\"This is the PDF's OCR in markdown:\\n{all_markdown}\\n.\\n\"\n",
    "#                             \"Convert this into a structured JSON response \"\n",
    "#                             \"with the OCR contents in a sensible dictionnary.\"\n",
    "#                         ))\n",
    "#                     ]\n",
    "#                 }\n",
    "#             ],\n",
    "#             response_format=Invoice,\n",
    "#             temperature=0\n",
    "#         )\n",
    "\n",
    "#         return chat_response.choices[0].message.parsed\n",
    "\n",
    "import os\n",
    "\n",
    "os.environ[\"PYTHONPATH\"] = \"/home/maarten/projects/personal/colli_parser/webhook\""
   ]
  },
  {
   "cell_type": "code",
   "execution_count": 9,
   "id": "e3b2ef95",
   "metadata": {},
   "outputs": [],
   "source": [
    "import sys\n",
    "sys.path.append(\"/home/maarten/projects/personal/colli_parser/webhook\")\n",
    "from api_client import MistralAIClient"
   ]
  },
  {
   "cell_type": "code",
   "execution_count": 11,
   "id": "34556129",
   "metadata": {},
   "outputs": [],
   "source": [
    "from api_client import MistralAIClient"
   ]
  },
  {
   "cell_type": "code",
   "execution_count": 3,
   "id": "20422d30",
   "metadata": {},
   "outputs": [
    {
     "data": {
      "text/markdown": [
       "Colruyt Food Retail N.V.\n",
       "Edingensesteenweg 196 - 1500 Halle\n",
       "Tel. 023452345 - www.colruyt.be\n",
       "RPR Brussel\n",
       "BTW-BE0716.663.615 - IBAN BE72 293025448916 SWIFT GEBABEBB\n",
       "![img-0.jpeg](img-0.jpeg)\n",
       "\n",
       "# colruyt \n",
       "\n",
       "![img-1.jpeg](img-1.jpeg)\n",
       "\n",
       "Algemene verkoopsvoorwaarden:\n",
       "\n",
       "1. Partijen aanvaarden dat elke betwisting onder de uitsluitende bevoegdheid van de rechtbanken van Brussel valt (in voorkomend geval van een der vredegerechten, zetelend in het Justitiepaleis te Brussel, naar keuze van de eiser).\n",
       "2. Alle verkopen zijn strikt contant betaalbaar. In geval van niet-betaling of van een slechts\n",
       "gedeeltelijke betaling, moet het niet-voldane bedrag betaald worden op de zetel van de Colruyt Food Retail N.V. te Halle, Edingensesteenweg 196, waar geldig voor verkoper kan ontvangen worden.\n",
       "In geval een der partijen een of meerdere van haar voornaamste verbintenissen niet uitvoert of\n",
       "slechts gedeeltelijk uitvoert, is deze vanaf de datum van haar wanprestatie van rechtswege en\n",
       "zonder aanmaning een intrest van $10 \\%$ per jaar verschuldigd op het niet-betaalde bedrag.\n",
       "Bovendien is zij van rechtswege en zonder aanmaning een forfaitaire schadeloosstelling verschuldigd van\n",
       "$10 \\%$ op het betrokken bedrag, met een minimum van 25 euro per factuur, indien een maand na het begin van de\n",
       "wanprestatie de betaling nog niet (volledig) werd uitgevoerd.\n",
       "3. De klant die verpakkingen, voorzien van een 'groen punt', uitvoert naar een land waar\n",
       "daarop rechten bestaan, dient zich in verband daarmee in regel te stellen.\n",
       "4. Colruyt Food Retail N.V. heeft vrijstelling van certificatie volgens machtiging nr. 847.\n",
       "5. De contractuele garantiebepalingen doen geen afbreuk aan de wettelijke garantie. U kan de bijzondere voorwaarden opvragen bij de verantwoordelijke van uw Colruytwinkel."
      ],
      "text/plain": [
       "<IPython.core.display.Markdown object>"
      ]
     },
     "metadata": {},
     "output_type": "display_data"
    },
    {
     "data": {
      "text/html": [
       "<div><style>\n",
       ".dataframe > thead > tr,\n",
       ".dataframe > tbody > tr {\n",
       "  text-align: right;\n",
       "  white-space: pre-wrap;\n",
       "}\n",
       "</style>\n",
       "<small>shape: (1, 1)</small><table border=\"1\" class=\"dataframe\"><thead><tr><th>column_0</th></tr><tr><td>str</td></tr></thead><tbody><tr><td>&quot;{&quot;date&quot;:&quot;2023-10-01&quot;,&quot;page&quot;:1,…</td></tr></tbody></table></div>"
      ],
      "text/plain": [
       "shape: (1, 1)\n",
       "┌─────────────────────────────────┐\n",
       "│ column_0                        │\n",
       "│ ---                             │\n",
       "│ str                             │\n",
       "╞═════════════════════════════════╡\n",
       "│ {\"date\":\"2023-10-01\",\"page\":1,… │\n",
       "└─────────────────────────────────┘"
      ]
     },
     "execution_count": 3,
     "metadata": {},
     "output_type": "execute_result"
    }
   ],
   "source": [
    "import os\n",
    "api_client = MistralAIClient(api_token=os.getenv(\"MISTRAL_API_TOKEN\"))\n",
    "result = api_client.structured_pdf_ocr(\"../data/Kasticket_03042025_19h42_273429311.pdf\")\n",
    "import polars as pl\n",
    "\n",
    "pl.DataFrame([result.model_dump_json()])"
   ]
  },
  {
   "cell_type": "code",
   "execution_count": 5,
   "id": "bf4f77e8",
   "metadata": {},
   "outputs": [
    {
     "data": {
      "text/html": [
       "<div><style>\n",
       ".dataframe > thead > tr,\n",
       ".dataframe > tbody > tr {\n",
       "  text-align: right;\n",
       "  white-space: pre-wrap;\n",
       "}\n",
       "</style>\n",
       "<small>shape: (1, 4)</small><table border=\"1\" class=\"dataframe\"><thead><tr><th>date</th><th>page</th><th>total_amount_invoice</th><th>items</th></tr><tr><td>str</td><td>i64</td><td>f64</td><td>list[struct[5]]</td></tr></thead><tbody><tr><td>&quot;2023-10-01&quot;</td><td>1</td><td>32.5</td><td>[{10.0,1.5,2.0,5.0,&quot;Item 1&quot;}, {15.0,0.75,1.0,3.0,&quot;Item 2&quot;}]</td></tr></tbody></table></div>"
      ],
      "text/plain": [
       "shape: (1, 4)\n",
       "┌────────────┬──────┬──────────────────────┬─────────────────────────────────┐\n",
       "│ date       ┆ page ┆ total_amount_invoice ┆ items                           │\n",
       "│ ---        ┆ ---  ┆ ---                  ┆ ---                             │\n",
       "│ str        ┆ i64  ┆ f64                  ┆ list[struct[5]]                 │\n",
       "╞════════════╪══════╪══════════════════════╪═════════════════════════════════╡\n",
       "│ 2023-10-01 ┆ 1    ┆ 32.5                 ┆ [{10.0,1.5,2.0,5.0,\"Item 1\"}, … │\n",
       "└────────────┴──────┴──────────────────────┴─────────────────────────────────┘"
      ]
     },
     "execution_count": 5,
     "metadata": {},
     "output_type": "execute_result"
    }
   ],
   "source": [
    "df"
   ]
  },
  {
   "cell_type": "code",
   "execution_count": 4,
   "id": "533c6367",
   "metadata": {},
   "outputs": [
    {
     "data": {
      "application/vnd.microsoft.datawrangler.viewer.v0+json": {
       "columns": [
        {
         "name": "index",
         "rawType": "int64",
         "type": "integer"
        },
        {
         "name": "price",
         "rawType": "float64",
         "type": "float"
        },
        {
         "name": "discount",
         "rawType": "float64",
         "type": "float"
        },
        {
         "name": "quantity",
         "rawType": "float64",
         "type": "float"
        },
        {
         "name": "description",
         "rawType": "object",
         "type": "string"
        },
        {
         "name": "adjusted_amount",
         "rawType": "float64",
         "type": "float"
        }
       ],
       "ref": "9834d43e-77ec-4391-b8b7-f706e0d699c4",
       "rows": [
        [
         "0",
         "20.0",
         "5.0",
         "2.0",
         "item 1",
         "19.0"
        ],
        [
         "1",
         "15.0",
         "3.0",
         "1.0",
         "item 2",
         "14.55"
        ]
       ],
       "shape": {
        "columns": 5,
        "rows": 2
       }
      },
      "text/html": [
       "<div>\n",
       "<style scoped>\n",
       "    .dataframe tbody tr th:only-of-type {\n",
       "        vertical-align: middle;\n",
       "    }\n",
       "\n",
       "    .dataframe tbody tr th {\n",
       "        vertical-align: top;\n",
       "    }\n",
       "\n",
       "    .dataframe thead th {\n",
       "        text-align: right;\n",
       "    }\n",
       "</style>\n",
       "<table border=\"1\" class=\"dataframe\">\n",
       "  <thead>\n",
       "    <tr style=\"text-align: right;\">\n",
       "      <th></th>\n",
       "      <th>price</th>\n",
       "      <th>discount</th>\n",
       "      <th>quantity</th>\n",
       "      <th>description</th>\n",
       "      <th>adjusted_amount</th>\n",
       "    </tr>\n",
       "  </thead>\n",
       "  <tbody>\n",
       "    <tr>\n",
       "      <th>0</th>\n",
       "      <td>20.0</td>\n",
       "      <td>5.0</td>\n",
       "      <td>2.0</td>\n",
       "      <td>item 1</td>\n",
       "      <td>19.00</td>\n",
       "    </tr>\n",
       "    <tr>\n",
       "      <th>1</th>\n",
       "      <td>15.0</td>\n",
       "      <td>3.0</td>\n",
       "      <td>1.0</td>\n",
       "      <td>item 2</td>\n",
       "      <td>14.55</td>\n",
       "    </tr>\n",
       "  </tbody>\n",
       "</table>\n",
       "</div>"
      ],
      "text/plain": [
       "   price  discount  quantity description  adjusted_amount\n",
       "0   20.0       5.0       2.0      item 1            19.00\n",
       "1   15.0       3.0       1.0      item 2            14.55"
      ]
     },
     "execution_count": 4,
     "metadata": {},
     "output_type": "execute_result"
    }
   ],
   "source": [
    "df = pl.DataFrame([result.model_dump_json()])\n",
    "df = df.select(\n",
    "            pl.col(\"column_0\").str.json_decode().alias(\"page_struct\")\n",
    "        ).unnest(\"page_struct\")\n",
    "\n",
    "def group_waarborg_fields(invoice_items_df: pl.DataFrame) -> pl.DataFrame:\n",
    "    waarborg_filter = pl.col(\"description\").str.contains(\"waarborg\")\n",
    "    waarborg_df = invoice_items_df.filter(waarborg_filter)\n",
    "    return pl.concat(\n",
    "        [\n",
    "            invoice_items_df.filter(~waarborg_filter),\n",
    "            waarborg_df.group_by(pl.lit(1)).agg(\n",
    "                pl.exclude([\"adjusted_amount\"]).first(),\n",
    "                pl.sum(\"adjusted_amount\").alias(\"adjusted_amount\")\n",
    "            ).select(invoice_items_df.columns).with_columns(pl.lit(\"waarborg net\").alias(\"description\")),\n",
    "        ]\n",
    "    )\n",
    "\n",
    "def clean_invoice_df(invoice_items_df: pl.DataFrame) -> pl.DataFrame:\n",
    "    total_amount_filter = pl.col(\"description\").str.contains(\n",
    "        \"total payment|total amount\"\n",
    "    )\n",
    "\n",
    "    adjusted_discount = (\n",
    "        pl.when(\n",
    "        pl.col(\"next_description\").str.to_lowercase().str.starts_with(\"korting\")\n",
    "        ).then(pl.col(\"next_discount\")\n",
    "        ).otherwise(\n",
    "            # pl.when(pl.col(\"description\").str.contains(\"korting\"))\n",
    "            # .then(pl.col(\"discount\"))\n",
    "            # .otherwise(pl.lit(0.0))\n",
    "            pl.col(\"discount\")\n",
    "        ).alias(\"discount\")\n",
    "    )\n",
    "\n",
    "    # First extract the total amount from any row with korting/total payment/total amount due\n",
    "    invoice_items_df = (\n",
    "        invoice_items_df.explode(\"items\")\n",
    "        .unnest(\"items\")\n",
    "        .filter(pl.col(\"description\").is_not_null())\n",
    "        .with_columns((pl.col(\"quantity\")*pl.col(\"unit_price\")).round(2).alias(\"price\"))\n",
    "        .with_columns(pl.col(\"description\").str.to_lowercase().alias(\"description\"))\n",
    "        .with_columns([\n",
    "            pl.col(\"discount\").shift(-1).alias(\"next_discount\"),\n",
    "            pl.col(\"description\").shift(-1).alias(\"next_description\"),\n",
    "        ])\n",
    "        .with_columns(\n",
    "            pl.when(pl.col(\"next_description\").str.to_lowercase().str.starts_with(\"korting\")).then((pl.col(\"description\") + \" \"+ pl.col(\"next_description\"))).otherwise(pl.col(\"description\")).alias(\"description\")\n",
    "        ).with_columns(adjusted_discount)  \n",
    "    )\n",
    "\n",
    "    # Get total amount if available (use first match if multiple rows)\n",
    "    total_amount_df = invoice_items_df.filter(total_amount_filter)\n",
    "    total_amount = (\n",
    "        total_amount_df[\"total_amount_invoice\"][0] if not total_amount_df.is_empty() else None\n",
    "    )\n",
    "\n",
    "    # apple due to xtra sign similar to an apple\n",
    "    not_a_product_filter = pl.col(\"description\").str.contains(\n",
    "        \"total payment|total amount|apple|maestro\"\n",
    "    )\n",
    "    cleaned_df = (\n",
    "        invoice_items_df.filter(~not_a_product_filter)\n",
    "        # Adjust price by discount\n",
    "        .with_columns((pl.col(\"price\")*(1 - (pl.col(\"discount\")/100))).round(2).alias(\"adjusted_amount\"))\n",
    "    )\n",
    "\n",
    "    # Add total_amount as a column and check for discrepancy\n",
    "    sum_price = cleaned_df[\"adjusted_amount\"].sum()\n",
    "    if total_amount is not None and abs(sum_price - total_amount) > 0.01:\n",
    "        print(\n",
    "            f\"Sum of items ({sum_price}) differs from total amount ({total_amount})\"\n",
    "        )\n",
    "\n",
    "    return group_waarborg_fields(\n",
    "        cleaned_df.with_columns(pl.lit(total_amount).alias(\"total_amount\"))\n",
    "    )\n",
    "clean_invoice_df(df).select(\"price\", \"discount\",\"quantity\", \"description\", \"adjusted_amount\").to_pandas()"
   ]
  }
 ],
 "metadata": {
  "kernelspec": {
   "display_name": ".venv",
   "language": "python",
   "name": "python3"
  },
  "language_info": {
   "codemirror_mode": {
    "name": "ipython",
    "version": 3
   },
   "file_extension": ".py",
   "mimetype": "text/x-python",
   "name": "python",
   "nbconvert_exporter": "python",
   "pygments_lexer": "ipython3",
   "version": "3.12.3"
  }
 },
 "nbformat": 4,
 "nbformat_minor": 5
}
