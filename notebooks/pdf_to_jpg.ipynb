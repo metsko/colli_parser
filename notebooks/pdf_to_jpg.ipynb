{
 "cells": [
  {
   "cell_type": "code",
   "execution_count": 2,
   "metadata": {},
   "outputs": [],
   "source": [
    "from pdf2image import convert_from_path\n",
    "from typing import List\n",
    "from pathlib import Path\n",
    "\n",
    "def pdf_to_image(pdf_path: str) -> List[str]:\n",
    "    \"\"\"\n",
    "    Converts each page of the PDF to an image and returns a list of image paths.\n",
    "    \"\"\"\n",
    "    images = convert_from_path(pdf_path)\n",
    "    output_path = Path(pdf_path).parent/f'images/{pdf_path.stem}'\n",
    "    output_path.mkdir(parents=True, exist_ok=True)\n",
    "    image_paths = []\n",
    "    for i, image in enumerate(images):\n",
    "        image_path = f\"{output_path}/page_{i}.jpg\"\n",
    "        image.save(image_path, \"JPEG\")\n",
    "        image_paths.append(image_path)\n",
    "    return image_paths\n",
    "\n",
    "\n",
    "paths = Path(\"../data/pdfs_papa\").glob(\"*.pdf\")\n",
    "for path in paths:\n",
    "    pdf_to_image(path)"
   ]
  }
 ],
 "metadata": {
  "kernelspec": {
   "display_name": "colli-parser-SijXCkaS-py3.12",
   "language": "python",
   "name": "python3"
  },
  "language_info": {
   "codemirror_mode": {
    "name": "ipython",
    "version": 3
   },
   "file_extension": ".py",
   "mimetype": "text/x-python",
   "name": "python",
   "nbconvert_exporter": "python",
   "pygments_lexer": "ipython3",
   "version": "3.12.3"
  }
 },
 "nbformat": 4,
 "nbformat_minor": 2
}
