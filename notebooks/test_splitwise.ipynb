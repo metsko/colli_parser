{
 "cells": [
  {
   "cell_type": "code",
   "execution_count": 4,
   "metadata": {},
   "outputs": [],
   "source": [
    "from splitwise import Splitwise\n",
    "from splitwise.group import Group\n",
    "# from splitwise.expense import Expense\n",
    "# from splitwise.user import CurrentUser\n",
    "from dotenv import load_dotenv\n",
    "from loguru import logger\n",
    "import os\n",
    "\n",
    "env_path = \".env\"\n",
    "if load_dotenv(env_path):\n",
    "    logger.info(f\"Loaded env variables from {env_path}.\")\n",
    "\n",
    "# SPLITWISE_GROUP=\n",
    "s = Splitwise(os.getenv('SPLITWISE_CONSUMER_KEY'),os.getenv('SPLITWISE_CONSUMER_SECRET'),api_key=os.getenv(\"SPLITWISE_API_KEY\"))\n",
    "current = s.getCurrentUser()\n",
    "group = s.getGroup()\n",
    "# def splitwise_auth()->CurrentUser:\n",
    "#     s = Splitwise(os.getenv('SPLITWISE_CONSUMER_KEY'),os.getenv('SPLITWISE_CONSUMER_SECRET'))\n",
    "#     u = s.getCurrentUser()\n",
    "#     return u\n",
    "\n",
    "# def register_splitwise_expense(s:Splitwise, item_json:str):\n",
    "#     item_dict = json.loads(item_json)\n",
    "#     expense = Expense()\n",
    "#     expense.setCost(item_dict['price'])\n",
    "#     expense.set(item_dict['description'])\n",
    "#     maarten = s.getCurrentUser()\n",
    "#     maarten.setPaidShare(1*item_dict['price'])\n",
    "#     maarten.setOwedShare(1*item_dict['price'])\n",
    "#     user2 = ExpenseUser()\n",
    "#     user2.setId(281236)\n",
    "#     user2.setPaidShare('0.00')\n",
    "#     user2.setOwedShare('8.00')\n",
    "#     expense.addUser(user1)\n",
    "#     expense.addUser(user2)\n",
    "#     nExpense, errors = s.createExpense(expense)\n",
    "#     print(nExpense.getId()"
   ]
  },
  {
   "cell_type": "code",
   "execution_count": 8,
   "metadata": {},
   "outputs": [],
   "source": [
    "f = s.getFriends()[0]"
   ]
  },
  {
   "cell_type": "code",
   "execution_count": 9,
   "metadata": {},
   "outputs": [
    {
     "data": {
      "text/plain": [
       "'Lori'"
      ]
     },
     "execution_count": 9,
     "metadata": {},
     "output_type": "execute_result"
    }
   ],
   "source": [
    "f.first_name"
   ]
  },
  {
   "cell_type": "code",
   "execution_count": 13,
   "metadata": {},
   "outputs": [],
   "source": [
    "Sofie = list(filter(lambda f: f.first_name=='Sofie', s.getFriends()))[0]"
   ]
  },
  {
   "cell_type": "code",
   "execution_count": null,
   "metadata": {},
   "outputs": [
    {
     "data": {
      "text/plain": [
       "<splitwise.user.Friend at 0x7f8d960f2e10>"
      ]
     },
     "execution_count": 14,
     "metadata": {},
     "output_type": "execute_result"
    }
   ],
   "source": [
    "current.gr"
   ]
  },
  {
   "cell_type": "code",
   "execution_count": null,
   "metadata": {},
   "outputs": [],
   "source": [
    "group = Group()\n",
    "group.setName('Anti Hangriness Sofieke')\n",
    "group.addMember(Sofie)\n",
    "group, errors = s.createGroup(group)"
   ]
  },
  {
   "cell_type": "code",
   "execution_count": null,
   "metadata": {},
   "outputs": [],
   "source": [
    "SW_GROUP_NAME='Anti Hangriness Sofieke'\n",
    "group = list(filter(lambda g: g.getName()==SW_GROUP_NAME, s.getGroups()))\n",
    "if group != []:\n",
    "    "
   ]
  },
  {
   "cell_type": "code",
   "execution_count": 25,
   "metadata": {},
   "outputs": [
    {
     "data": {
      "text/plain": [
       "[<splitwise.group.Group at 0x7f8d956c7650>]"
      ]
     },
     "execution_count": 25,
     "metadata": {},
     "output_type": "execute_result"
    }
   ],
   "source": [
    "group"
   ]
  },
  {
   "cell_type": "code",
   "execution_count": 19,
   "metadata": {},
   "outputs": [
    {
     "data": {
      "text/plain": [
       "'2025-02-24T11:16:39Z'"
      ]
     },
     "execution_count": 19,
     "metadata": {},
     "output_type": "execute_result"
    }
   ],
   "source": [
    "group.created_at"
   ]
  },
  {
   "cell_type": "code",
   "execution_count": 18,
   "metadata": {},
   "outputs": [
    {
     "data": {
      "text/plain": [
       "'https://www.splitwise.com/join/CSk6hn58yX1+akal5'"
      ]
     },
     "execution_count": 18,
     "metadata": {},
     "output_type": "execute_result"
    }
   ],
   "source": [
    "group.getInviteLink()"
   ]
  },
  {
   "cell_type": "code",
   "execution_count": null,
   "metadata": {},
   "outputs": [],
   "source": [
    "s.createGroup(group=Group(data=json.dumps({\n",
    "    ''\n",
    "})))"
   ]
  },
  {
   "cell_type": "code",
   "execution_count": 2,
   "metadata": {},
   "outputs": [
    {
     "data": {
      "text/plain": [
       "'EUR'"
      ]
     },
     "execution_count": 2,
     "metadata": {},
     "output_type": "execute_result"
    }
   ],
   "source": [
    "current.getDefaultCurrency()"
   ]
  },
  {
   "cell_type": "code",
   "execution_count": 3,
   "metadata": {},
   "outputs": [
    {
     "data": {
      "text/plain": [
       "['Uitgaven buiten de groep', 'Londen', 'Blijdeberg']"
      ]
     },
     "execution_count": 3,
     "metadata": {},
     "output_type": "execute_result"
    }
   ],
   "source": [
    "list(map(lambda g: g.name, s.getGroups()))"
   ]
  }
 ],
 "metadata": {
  "kernelspec": {
   "display_name": "colli-parser-SijXCkaS-py3.12",
   "language": "python",
   "name": "python3"
  },
  "language_info": {
   "codemirror_mode": {
    "name": "ipython",
    "version": 3
   },
   "file_extension": ".py",
   "mimetype": "text/x-python",
   "name": "python",
   "nbconvert_exporter": "python",
   "pygments_lexer": "ipython3",
   "version": "3.12.3"
  }
 },
 "nbformat": 4,
 "nbformat_minor": 2
}
