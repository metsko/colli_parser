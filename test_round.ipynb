{
 "cells": [
  {
   "cell_type": "code",
   "execution_count": 26,
   "metadata": {},
   "outputs": [
    {
     "data": {
      "text/plain": [
       "2.0"
      ]
     },
     "execution_count": 26,
     "metadata": {},
     "output_type": "execute_result"
    }
   ],
   "source": [
    "1.79*100%3"
   ]
  },
  {
   "cell_type": "code",
   "execution_count": 19,
   "metadata": {},
   "outputs": [
    {
     "name": "stdout",
     "output_type": "stream",
     "text": [
      "0.59 0.02\n",
      "1.79\n"
     ]
    }
   ],
   "source": [
    "import math\n",
    "\n",
    "members = [1, 2, 3]\n",
    "price = 1.79\n",
    "equal_share = math.floor(price * 100 / len(members)) / 100\n",
    "total_share = 0\n",
    "for i, friend in enumerate(members):\n",
    "    total_share += equal_share\n",
    "\n",
    "# Adjust for any rounding differences\n",
    "remainder = round(price - total_share, 2)\n",
    "\n",
    "\n",
    "assert equal_share*len(members) + remainder == price\n",
    "print(equal_share, remainder)\n",
    "print(equal_share*len(members) + remainder)"
   ]
  }
 ],
 "metadata": {
  "kernelspec": {
   "display_name": "colli-parser-SijXCkaS-py3.12",
   "language": "python",
   "name": "python3"
  },
  "language_info": {
   "codemirror_mode": {
    "name": "ipython",
    "version": 3
   },
   "file_extension": ".py",
   "mimetype": "text/x-python",
   "name": "python",
   "nbconvert_exporter": "python",
   "pygments_lexer": "ipython3",
   "version": "3.12.3"
  }
 },
 "nbformat": 4,
 "nbformat_minor": 2
}
